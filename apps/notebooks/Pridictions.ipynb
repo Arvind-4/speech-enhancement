{
 "cells": [
  {
   "cell_type": "code",
   "execution_count": null,
   "metadata": {},
   "outputs": [],
   "source": [
    "import sys\n",
    "import librosa\n",
    "import pathlib\n",
    "import IPython.display as ipd"
   ]
  },
  {
   "cell_type": "code",
   "execution_count": null,
   "metadata": {},
   "outputs": [],
   "source": [
    "BASE_DIR = pathlib.Path().resolve().parent\n",
    "sys.path.append(str(BASE_DIR))\n",
    "sys.path.append(str(BASE_DIR) + \"/\" + \"model\")"
   ]
  },
  {
   "cell_type": "code",
   "execution_count": null,
   "metadata": {},
   "outputs": [],
   "source": [
    "from model.config import get_settings\n",
    "from model.data_tools import numpy_audio_to_matrix_spectrogram\n",
    "from model.data_display import make_3plots_spec_voice_noise, make_3plots_timeseries_voice_noise\n",
    "from model.test_model import prediction\n",
    "\n",
    "settings = get_settings()\n"
   ]
  },
  {
   "cell_type": "code",
   "execution_count": null,
   "metadata": {},
   "outputs": [],
   "source": [
    "VALIDATION_DIR = BASE_DIR / \"test_data\" / \"validation\"\n",
    "TEST_DIR = settings.AUDIO_DIR_PREDICTION\n",
    "SAVED_PREDICTIONS_DIR = settings.DIR_SAVE_PREDICTION\n",
    "\n",
    "list_files = ['noisy_voice_bells28.wav','voice_pred_bells28.wav','voice_bells28.wav']\n",
    "\n",
    "sample_rate = 8000\n",
    "\n",
    "min_duration = 1.0\n",
    "\n",
    "frame_length = 8064\n",
    "\n",
    "hop_length_frame = 8064\n",
    "\n",
    "n_fft = 255\n",
    "\n",
    "hop_length_fft = 63\n",
    "\n",
    "dim_square_spec = int(n_fft / 2) + 1"
   ]
  },
  {
   "cell_type": "markdown",
   "metadata": {},
   "source": [
    "# Bells example"
   ]
  },
  {
   "cell_type": "markdown",
   "metadata": {},
   "source": [
    "### Noisy voice"
   ]
  },
  {
   "cell_type": "code",
   "execution_count": null,
   "metadata": {},
   "outputs": [],
   "source": [
    "noisy_voice_bells, sr = librosa.load(str(VALIDATION_DIR / list_files[0]), sr=sample_rate)\n",
    "ipd.Audio(noisy_voice_bells, rate=8000)"
   ]
  },
  {
   "cell_type": "markdown",
   "metadata": {},
   "source": [
    "### Predicted clean voice"
   ]
  },
  {
   "cell_type": "code",
   "execution_count": null,
   "metadata": {},
   "outputs": [],
   "source": [
    "voice_pred_bells, sr = librosa.load(str(VALIDATION_DIR / list_files[1]), sr=sample_rate)\n",
    "ipd.Audio(voice_pred_bells, rate=8000)"
   ]
  },
  {
   "cell_type": "markdown",
   "metadata": {},
   "source": [
    "### True clean voice"
   ]
  },
  {
   "cell_type": "code",
   "execution_count": null,
   "metadata": {},
   "outputs": [],
   "source": [
    "voice_bells, sr = librosa.load(str(VALIDATION_DIR / list_files[2]), sr=sample_rate)\n",
    "ipd.Audio(voice_bells, rate=8000)"
   ]
  },
  {
   "cell_type": "code",
   "execution_count": null,
   "metadata": {},
   "outputs": [],
   "source": [
    "m_amp_db_noisy_voice,  m_pha_noisy_voice =  numpy_audio_to_matrix_spectrogram (noisy_voice_bells.reshape(1,8064), dim_square_spec, n_fft, hop_length_fft)\n",
    "\n",
    "m_amp_db_voice_pred,  m_pha_voice_pred =  numpy_audio_to_matrix_spectrogram (voice_pred_bells.reshape(1,8064), dim_square_spec, n_fft, hop_length_fft)\n",
    "\n",
    "m_amp_db_voice_true,  m_pha_voice_true =  numpy_audio_to_matrix_spectrogram (voice_bells.reshape(1,8064), dim_square_spec, n_fft, hop_length_fft)\n",
    "\n",
    "make_3plots_spec_voice_noise(m_amp_db_noisy_voice[0,:,:],m_amp_db_voice_pred[0,:,:],m_amp_db_voice_true[0,:,:],sample_rate, hop_length_fft)\n"
   ]
  },
  {
   "cell_type": "code",
   "execution_count": null,
   "metadata": {},
   "outputs": [],
   "source": [
    "m_amp_db_voice_true.shape"
   ]
  },
  {
   "cell_type": "code",
   "execution_count": null,
   "metadata": {},
   "outputs": [],
   "source": [
    "make_3plots_timeseries_voice_noise(noisy_voice_bells,voice_pred_bells,voice_bells, sample_rate)\n"
   ]
  },
  {
   "cell_type": "markdown",
   "metadata": {},
   "source": [
    "# Blind test  examples"
   ]
  },
  {
   "cell_type": "markdown",
   "metadata": {},
   "source": [
    "## Example 1\n",
    "\n",
    "### Noisy voice"
   ]
  },
  {
   "cell_type": "code",
   "execution_count": null,
   "metadata": {},
   "outputs": [],
   "source": [
    "file_name = \"noisy_voice_long_t1.wav\"\n",
    "\n",
    "noisy_voice_ex1, sr = librosa.load(str(TEST_DIR) + \"/\" + file_name, sr=sample_rate)\n",
    "ipd.Audio(noisy_voice_ex1, rate=8000)"
   ]
  },
  {
   "cell_type": "markdown",
   "metadata": {},
   "source": [
    "### Predicted denoise"
   ]
  },
  {
   "cell_type": "code",
   "execution_count": null,
   "metadata": {},
   "outputs": [],
   "source": [
    "prediction()\n",
    "\n",
    "voice_ex1, sr = librosa.load(str(SAVED_PREDICTIONS_DIR) + \"/\" + file_name, sr=sample_rate)\n",
    "\n",
    "ipd.Audio(voice_ex1, rate=8000)"
   ]
  },
  {
   "cell_type": "code",
   "execution_count": null,
   "metadata": {},
   "outputs": [],
   "source": []
  }
 ],
 "metadata": {
  "kernelspec": {
   "display_name": "Python 3 (ipykernel)",
   "language": "python",
   "name": "python3"
  },
  "language_info": {
   "codemirror_mode": {
    "name": "ipython",
    "version": 3
   },
   "file_extension": ".py",
   "mimetype": "text/x-python",
   "name": "python",
   "nbconvert_exporter": "python",
   "pygments_lexer": "ipython3",
   "version": "3.7.17"
  }
 },
 "nbformat": 4,
 "nbformat_minor": 2
}
